{
 "cells": [
  {
   "cell_type": "code",
   "execution_count": 1,
   "id": "f432da9b-9613-4d08-9527-90623176ed0c",
   "metadata": {},
   "outputs": [],
   "source": [
    "import pandas as pd\n",
    "import numpy as np"
   ]
  },
  {
   "cell_type": "code",
   "execution_count": 2,
   "id": "833c997d-7da6-40b3-83e8-c4bff8152862",
   "metadata": {},
   "outputs": [],
   "source": [
    "df = pd.read_csv(\"reddit_posts_comments_Anxiety.csv\")"
   ]
  },
  {
   "cell_type": "code",
   "execution_count": 3,
   "id": "5547ac50-467b-4db5-8aa3-910d13f924a8",
   "metadata": {},
   "outputs": [
    {
     "data": {
      "text/html": [
       "<div>\n",
       "<style scoped>\n",
       "    .dataframe tbody tr th:only-of-type {\n",
       "        vertical-align: middle;\n",
       "    }\n",
       "\n",
       "    .dataframe tbody tr th {\n",
       "        vertical-align: top;\n",
       "    }\n",
       "\n",
       "    .dataframe thead th {\n",
       "        text-align: right;\n",
       "    }\n",
       "</style>\n",
       "<table border=\"1\" class=\"dataframe\">\n",
       "  <thead>\n",
       "    <tr style=\"text-align: right;\">\n",
       "      <th></th>\n",
       "      <th>Post Title</th>\n",
       "      <th>Post Body</th>\n",
       "      <th>Comment</th>\n",
       "    </tr>\n",
       "  </thead>\n",
       "  <tbody>\n",
       "    <tr>\n",
       "      <th>0</th>\n",
       "      <td>Elections and Politics</td>\n",
       "      <td>Hello friends!\\n\\nIt's that time of the year a...</td>\n",
       "      <td>[removed]</td>\n",
       "    </tr>\n",
       "    <tr>\n",
       "      <th>1</th>\n",
       "      <td>Elections and Politics</td>\n",
       "      <td>Hello friends!\\n\\nIt's that time of the year a...</td>\n",
       "      <td>[removed]</td>\n",
       "    </tr>\n",
       "    <tr>\n",
       "      <th>2</th>\n",
       "      <td>Elections and Politics</td>\n",
       "      <td>Hello friends!\\n\\nIt's that time of the year a...</td>\n",
       "      <td>[deleted]</td>\n",
       "    </tr>\n",
       "  </tbody>\n",
       "</table>\n",
       "</div>"
      ],
      "text/plain": [
       "               Post Title                                          Post Body  \\\n",
       "0  Elections and Politics  Hello friends!\\n\\nIt's that time of the year a...   \n",
       "1  Elections and Politics  Hello friends!\\n\\nIt's that time of the year a...   \n",
       "2  Elections and Politics  Hello friends!\\n\\nIt's that time of the year a...   \n",
       "\n",
       "     Comment  \n",
       "0  [removed]  \n",
       "1  [removed]  \n",
       "2  [deleted]  "
      ]
     },
     "execution_count": 3,
     "metadata": {},
     "output_type": "execute_result"
    }
   ],
   "source": [
    "df.head(3)"
   ]
  },
  {
   "cell_type": "code",
   "execution_count": 4,
   "id": "b03ce418-ab3f-44bd-b0bf-df40686ed1a2",
   "metadata": {},
   "outputs": [
    {
     "data": {
      "text/plain": [
       "<bound method NDFrame.describe of                   Post Title  \\\n",
       "0     Elections and Politics   \n",
       "1     Elections and Politics   \n",
       "2     Elections and Politics   \n",
       "3     Elections and Politics   \n",
       "4     Elections and Politics   \n",
       "...                      ...   \n",
       "3105       Anxious musician    \n",
       "3106       Anxious musician    \n",
       "3107       Anxious musician    \n",
       "3108  Learning the hard way    \n",
       "3109  Learning the hard way    \n",
       "\n",
       "                                              Post Body  \\\n",
       "0     Hello friends!\\n\\nIt's that time of the year a...   \n",
       "1     Hello friends!\\n\\nIt's that time of the year a...   \n",
       "2     Hello friends!\\n\\nIt's that time of the year a...   \n",
       "3     Hello friends!\\n\\nIt's that time of the year a...   \n",
       "4     Hello friends!\\n\\nIt's that time of the year a...   \n",
       "...                                                 ...   \n",
       "3105  It's been a while since I posted but I need so...   \n",
       "3106  It's been a while since I posted but I need so...   \n",
       "3107  It's been a while since I posted but I need so...   \n",
       "3108  Went out tonight and currently in my hotel wit...   \n",
       "3109  Went out tonight and currently in my hotel wit...   \n",
       "\n",
       "                                                Comment  \n",
       "0                                             [removed]  \n",
       "1                                             [removed]  \n",
       "2                                             [deleted]  \n",
       "3     This content has been removed. We try to keep ...  \n",
       "4     This content has been automatically removed. P...  \n",
       "...                                                 ...  \n",
       "3105  My father knows ( he's also a member of the band)  \n",
       "3106                         Thanks ill try and find it  \n",
       "3107  That’s great. It’s comforting to know that you...  \n",
       "3108  Fried & greasy food is the WORST anxiety trigg...  \n",
       "3109  This is such a kind and validating message. I ...  \n",
       "\n",
       "[3110 rows x 3 columns]>"
      ]
     },
     "execution_count": 4,
     "metadata": {},
     "output_type": "execute_result"
    }
   ],
   "source": [
    "df.describe"
   ]
  },
  {
   "cell_type": "code",
   "execution_count": null,
   "id": "e6b8e243-665c-42b6-ba51-35ff538acc85",
   "metadata": {},
   "outputs": [],
   "source": []
  }
 ],
 "metadata": {
  "kernelspec": {
   "display_name": "Python 3 (ipykernel)",
   "language": "python",
   "name": "python3"
  },
  "language_info": {
   "codemirror_mode": {
    "name": "ipython",
    "version": 3
   },
   "file_extension": ".py",
   "mimetype": "text/x-python",
   "name": "python",
   "nbconvert_exporter": "python",
   "pygments_lexer": "ipython3",
   "version": "3.11.7"
  }
 },
 "nbformat": 4,
 "nbformat_minor": 5
}
